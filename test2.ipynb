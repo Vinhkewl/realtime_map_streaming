{
 "cells": [
  {
   "cell_type": "code",
   "execution_count": null,
   "metadata": {},
   "outputs": [],
   "source": [
    "\n",
    "from confluent_kafka import Consumer\n",
    "import certifi\n",
    "\n",
    "if __name__ == '__main__':\n",
    "\n",
    "    topic = [\"topic_one\"]\n",
    "    conf = {\n",
    "        'bootstrap.servers': \"boot_strap_server\",\n",
    "        # usually of the form cell-1.streaming.<region>.oci.oraclecloud.com:9092\n",
    "        \n",
    "        'security.protocol': 'SASL_SSL',\n",
    "        'ssl.ca.location': certifi.where(),  \n",
    "        # optionally instead of giving path, you can do\n",
    "        # 1. pip install certifi\n",
    "        # 2. import certifi\n",
    "        # 3. certifi.where()\n",
    "        \n",
    "        'sasl.mechanism': 'PLAIN',\n",
    "        'sasl.username': 'sasl_user_name',\n",
    "        'sasl.password': 'sasl_password',  \n",
    "        'group.id': 'group_number',\n",
    "        'session.timeout.ms' : time_in_mili_seconds\n",
    "\n",
    "    }\n",
    "\n",
    "    # Create Consumer instance\n",
    "    consumer = Consumer(conf)\n",
    "    # Subscribe to topic\n",
    "    consumer.subscribe(topic)\n",
    "\n",
    "    # Process messages\n",
    "    try:\n",
    "        while True:\n",
    "            msg = consumer.poll(1.0)\n",
    "            if msg is None:\n",
    "                # No message available within timeout.\n",
    "                # Initial message consumption may take up to\n",
    "                # `session.timeout.ms` for the consumer group to\n",
    "                # rebalance and start consuming\n",
    "                print(\"Waiting for message or event/error in poll()\")\n",
    "                continue\n",
    "            elif msg.error():\n",
    "                print('error: {}'.format(msg.error()))\n",
    "            else:\n",
    "                # Check for Kafka message\n",
    "                record_key = \"Null\" if msg.key() is None else msg.key().decode('utf-8')\n",
    "                record_value = msg.value().decode('utf-8')\n",
    "                print(\"Consumed record with key \"+ record_key + \" and value \" + record_value)\n",
    "    except KeyboardInterrupt:\n",
    "        pass\n",
    "    finally:\n",
    "        print(\"Leave group and commit final offsets\")\n",
    "        consumer.close()\n",
    "view rawKafka_article.py hosted with ❤ by GitHub"
   ]
  }
 ],
 "metadata": {
  "kernelspec": {
   "display_name": "Python 3",
   "language": "python",
   "name": "python3"
  },
  "language_info": {
   "codemirror_mode": {
    "name": "ipython",
    "version": 3
   },
   "file_extension": ".py",
   "mimetype": "text/x-python",
   "name": "python",
   "nbconvert_exporter": "python",
   "pygments_lexer": "ipython3",
   "version": "3.8.0"
  }
 },
 "nbformat": 4,
 "nbformat_minor": 2
}
