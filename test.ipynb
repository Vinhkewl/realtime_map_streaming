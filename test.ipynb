{
 "cells": [
  {
   "cell_type": "code",
   "execution_count": null,
   "metadata": {},
   "outputs": [],
   "source": [
    "# from kafka.admin import KafkaAdminClient, NewTopic\n",
    "\n",
    "\n",
    "# admin_client = KafkaAdminClient(\n",
    "#     bootstrap_servers=\"localhost:9092\", \n",
    "#     client_id='tracking'\n",
    "# )\n",
    "\n",
    "# topic_list = [NewTopic(name=\"coordinates\", num_partitions=3, replication_factor=3)]\n",
    "# admin_client.create_topics(new_topics=topic_list, validate_only=False)"
   ]
  },
  {
   "cell_type": "code",
   "execution_count": 5,
   "metadata": {},
   "outputs": [],
   "source": [
    "import json\n",
    "import folium\n",
    "import time\n",
    "import re\n",
    "import requests\n",
    "from google.transit import gtfs_realtime_pb2\n",
    "from json import dumps\n",
    "from kafka import KafkaProducer\n",
    "from kafka import KafkaConsumer\n",
    "\n",
    "api_url = 'https://realtime.hsl.fi/realtime/vehicle-positions/v2/hsl'  # Replace with your API endpoint\n",
    "KAFKA_SERVER = 'localhost:9092'\n",
    "TOPIC = 'coordinates'\n",
    "\n",
    "\n",
    "def fetch_coordinates():\n",
    "    response = requests.get(api_url)\n",
    "    if response.status_code == 200:\n",
    "        # Fetch the GTFS-RT payload\n",
    "        response = requests.get(api_url)\n",
    "        payload = response.content\n",
    "\n",
    "        # Create a GTFS-RT feed message\n",
    "        feed = gtfs_realtime_pb2.FeedMessage()\n",
    "\n",
    "        # Parse and decode the payload\n",
    "        feed.ParseFromString(payload)\n",
    "\n",
    "        # Create a list to hold the decoded entities\n",
    "        decoded_entities = []\n",
    "\n",
    "        # Iterate over the feed entities\n",
    "        for entity in feed.entity:\n",
    "            # Convert the entity to a dictionary\n",
    "            if re.search(r'47/668', entity.id):\n",
    "                entity_dict = {\n",
    "                    'id': entity.id,\n",
    "                    'vehicle': {\n",
    "                        'trip': {\n",
    "                            'route_id': entity.vehicle.trip.route_id,\n",
    "                            'start_time': entity.vehicle.trip.start_time,\n",
    "                            'start_date': entity.vehicle.trip.start_date\n",
    "                            # Add other trip attributes as needed\n",
    "                        },\n",
    "                        'position': {\n",
    "                            'latitude': entity.vehicle.position.latitude,\n",
    "                            'longitude': entity.vehicle.position.longitude,\n",
    "                            'bearing': entity.vehicle.position.bearing\n",
    "                            # Add other trip attributes as needed\n",
    "                        },\n",
    "                        'position': {\n",
    "                            'latitude': entity.vehicle.position.latitude,\n",
    "                            'longitude': entity.vehicle.position.longitude,\n",
    "                            'bearing': entity.vehicle.position.bearing,\n",
    "                            'odometer': entity.vehicle.position.odometer,\n",
    "                            'speed' : entity.vehicle.position.speed\n",
    "                            # Add other trip attributes as needed\n",
    "                        },\n",
    "                        'stop_id': entity.vehicle.stop_id,\n",
    "                        'current_status': entity.vehicle.current_status,\n",
    "                        'timestamp': entity.vehicle.timestamp\n",
    "                    }\n",
    "                }\n",
    "\n",
    "\n",
    "                # Append the entity dictionary to the list\n",
    "                decoded_entities.append(entity_dict)\n",
    "\n",
    "        # Convert the list of decoded entities to a JSON array\n",
    "        json_array = json.dumps(entity_dict)\n",
    "        # print(type(json_array))\n",
    "        return json_array\n",
    "    else:\n",
    "        print(f\"Error fetching coordinates: {response.status_code}\")\n",
    "        return None\n",
    "\n",
    "\n",
    "def produce_kafka_messages():\n",
    "    producer = KafkaProducer(bootstrap_servers=KAFKA_SERVER, \n",
    "                             api_version=(0,11,5),\n",
    "                             value_serializer=lambda x: json.dumps(x).encode('utf-8'))\n",
    "\n",
    "    while True:\n",
    "        coordinates = fetch_coordinates()\n",
    "        if coordinates:\n",
    "            producer.send(TOPIC, value=coordinates)\n",
    "            print(f\"Message produced: {coordinates}\")\n",
    "\n",
    "        time.sleep(2)  # Wait for 5 seconds before fetching coordinates again"
   ]
  },
  {
   "cell_type": "code",
   "execution_count": 13,
   "metadata": {},
   "outputs": [],
   "source": [
    "producer = KafkaProducer(bootstrap_servers=KAFKA_SERVER, \n",
    "                             api_version=(0,11),\n",
    "                             value_serializer=lambda x: json.dumps(x).encode('utf-8'))"
   ]
  },
  {
   "cell_type": "code",
   "execution_count": 14,
   "metadata": {},
   "outputs": [
    {
     "data": {
      "text/plain": [
       "<kafka.producer.future.FutureRecordMetadata at 0x1afcc9db5e0>"
      ]
     },
     "execution_count": 14,
     "metadata": {},
     "output_type": "execute_result"
    }
   ],
   "source": [
    "producer.send('coordinates', value=\"{'latitudew':123456}\")"
   ]
  },
  {
   "cell_type": "code",
   "execution_count": 19,
   "metadata": {},
   "outputs": [
    {
     "name": "stdout",
     "output_type": "stream",
     "text": [
      "kafka-metrics-count: {'count': 56.0}\n",
      "producer-metrics: {'connection-close-rate': 0.0, 'connection-creation-rate': 0.0, 'select-rate': 9.197992727498292, 'io-wait-time-ns-avg': 108808932.59524418, 'io-wait-ratio': 1.0008237706979077, 'io-time-ns-avg': 1065.171359867794, 'io-ratio': 9.797438421603436e-06, 'connection-count': 1.0, 'bufferpool-wait-ratio': 0.0, 'batch-size-avg': 0.0, 'batch-size-max': -inf, 'compression-rate-avg': 0.0, 'record-queue-time-avg': 0.0, 'record-queue-time-max': -inf, 'produce-throttle-time-avg': 0.0, 'produce-throttle-time-max': -inf, 'record-send-rate': 0.0, 'records-per-request-avg': 0.0, 'byte-rate': 0.0, 'record-retry-rate': 0.0, 'record-error-rate': 0.0, 'record-size-max': -inf, 'record-size-avg': 0.0, 'requests-in-flight': 0.0, 'metadata-age': 90.11920849609375, 'network-io-rate': 0.0, 'outgoing-byte-rate': 0.0, 'request-rate': 0.0, 'request-size-avg': 0.0, 'request-size-max': -inf, 'incoming-byte-rate': 0.0, 'response-rate': 0.0, 'request-latency-avg': 0.0, 'request-latency-max': -inf}\n",
      "producer-node-metrics.node-bootstrap-0: {'outgoing-byte-rate': 0.0, 'request-rate': 0.0, 'request-size-avg': 0.0, 'request-size-max': -inf, 'incoming-byte-rate': 0.0, 'response-rate': 0.0, 'request-latency-avg': 0.0, 'request-latency-max': -inf}\n",
      "producer-node-metrics.node-0: {'outgoing-byte-rate': 0.0, 'request-rate': 0.0, 'request-size-avg': 0.0, 'request-size-max': -inf, 'incoming-byte-rate': 0.0, 'response-rate': 0.0, 'request-latency-avg': 0.0, 'request-latency-max': -inf}\n",
      "producer-topic-metrics.coordinates: {'record-send-rate': 0.0, 'byte-rate': 0.0, 'compression-rate': 0.0, 'record-retry-rate': 0.0, 'record-error-rate': 0.0}\n"
     ]
    }
   ],
   "source": [
    "metrics = producer.metrics()\n",
    "\n",
    "# Print the logs of all sent messages\n",
    "for metric_name, metric_value in metrics.items():\n",
    "    print(f\"{metric_name}: {metric_value}\")"
   ]
  },
  {
   "cell_type": "code",
   "execution_count": 38,
   "metadata": {},
   "outputs": [
    {
     "name": "stdout",
     "output_type": "stream",
     "text": [
      "Message produced: {\"id\": \"vehicle_position_47/668\", \"vehicle\": {\"trip\": {\"route_id\": \"1016\", \"start_time\": \"10:40:00\", \"start_date\": \"20240115\"}, \"position\": {\"latitude\": 60.18600082397461, \"longitude\": 25.00366973876953, \"bearing\": 94.0, \"odometer\": 1533.0, \"speed\": 6.170000076293945}, \"stop_id\": \"1420124\", \"current_status\": 2, \"timestamp\": 1705308214}}\n",
      "Message produced: {\"id\": \"vehicle_position_47/668\", \"vehicle\": {\"trip\": {\"route_id\": \"1016\", \"start_time\": \"10:40:00\", \"start_date\": \"20240115\"}, \"position\": {\"latitude\": 60.18619918823242, \"longitude\": 25.007049560546875, \"bearing\": 14.0, \"odometer\": 1730.0, \"speed\": 5.610000133514404}, \"stop_id\": \"1420124\", \"current_status\": 2, \"timestamp\": 1705308246}}\n",
      "Message produced: {\"id\": \"vehicle_position_47/668\", \"vehicle\": {\"trip\": {\"route_id\": \"1016\", \"start_time\": \"10:40:00\", \"start_date\": \"20240115\"}, \"position\": {\"latitude\": 60.186500549316406, \"longitude\": 25.007068634033203, \"bearing\": 16.0, \"odometer\": 1765.0, \"speed\": 5.400000095367432}, \"stop_id\": \"1420124\", \"current_status\": 2, \"timestamp\": 1705308252}}\n",
      "Message produced: {\"id\": \"vehicle_position_47/668\", \"vehicle\": {\"trip\": {\"route_id\": \"1016\", \"start_time\": \"10:40:00\", \"start_date\": \"20240115\"}, \"position\": {\"latitude\": 60.186729431152344, \"longitude\": 25.007247924804688, \"bearing\": 20.0, \"odometer\": 1790.0, \"speed\": 6.170000076293945}, \"stop_id\": \"1420124\", \"current_status\": 2, \"timestamp\": 1705308257}}\n",
      "Message produced: {\"id\": \"vehicle_position_47/668\", \"vehicle\": {\"trip\": {\"route_id\": \"1016\", \"start_time\": \"10:40:00\", \"start_date\": \"20240115\"}, \"position\": {\"latitude\": 60.18691635131836, \"longitude\": 25.00737190246582, \"bearing\": 21.0, \"odometer\": 1810.0, \"speed\": 7.610000133514404}, \"stop_id\": \"1420124\", \"current_status\": 2, \"timestamp\": 1705308260}}\n",
      "Message produced: {\"id\": \"vehicle_position_47/668\", \"vehicle\": {\"trip\": {\"route_id\": \"1016\", \"start_time\": \"10:40:00\", \"start_date\": \"20240115\"}, \"position\": {\"latitude\": 60.1872444152832, \"longitude\": 25.0076847076416, \"bearing\": 24.0, \"odometer\": 1849.0, \"speed\": 8.180000305175781}, \"stop_id\": \"1420124\", \"current_status\": 0, \"timestamp\": 1705308265}}\n",
      "Message produced: {\"id\": \"vehicle_position_47/668\", \"vehicle\": {\"trip\": {\"route_id\": \"1016\", \"start_time\": \"10:40:00\", \"start_date\": \"20240115\"}, \"position\": {\"latitude\": 60.18756866455078, \"longitude\": 25.007932662963867, \"bearing\": 21.0, \"odometer\": 1889.0, \"speed\": 6.639999866485596}, \"stop_id\": \"1420124\", \"current_status\": 0, \"timestamp\": 1705308270}}\n",
      "Message produced: {\"id\": \"vehicle_position_47/668\", \"vehicle\": {\"trip\": {\"route_id\": \"1016\", \"start_time\": \"10:40:00\", \"start_date\": \"20240115\"}, \"position\": {\"latitude\": 60.18787384033203, \"longitude\": 25.008159637451172, \"bearing\": 25.0, \"odometer\": 1928.0, \"speed\": 7.409999847412109}, \"stop_id\": \"1420124\", \"current_status\": 0, \"timestamp\": 1705308276}}\n",
      "Message produced: {\"id\": \"vehicle_position_47/668\", \"vehicle\": {\"trip\": {\"route_id\": \"1016\", \"start_time\": \"10:40:00\", \"start_date\": \"20240115\"}, \"position\": {\"latitude\": 60.188140869140625, \"longitude\": 25.00864028930664, \"bearing\": 51.0, \"odometer\": 1968.0, \"speed\": 7.920000076293945}, \"stop_id\": \"1420112\", \"current_status\": 2, \"timestamp\": 1705308281}}\n",
      "Message produced: {\"id\": \"vehicle_position_47/668\", \"vehicle\": {\"trip\": {\"route_id\": \"1016\", \"start_time\": \"10:40:00\", \"start_date\": \"20240115\"}, \"position\": {\"latitude\": 60.18827819824219, \"longitude\": 25.009504318237305, \"bearing\": 82.0, \"odometer\": 2017.0, \"speed\": 9.109999656677246}, \"stop_id\": \"1420112\", \"current_status\": 2, \"timestamp\": 1705308287}}\n",
      "Message produced: {\"id\": \"vehicle_position_47/668\", \"vehicle\": {\"trip\": {\"route_id\": \"1016\", \"start_time\": \"10:40:00\", \"start_date\": \"20240115\"}, \"position\": {\"latitude\": 60.18828582763672, \"longitude\": 25.01000213623047, \"bearing\": 89.0, \"odometer\": 2047.0, \"speed\": 8.850000381469727}, \"stop_id\": \"1420112\", \"current_status\": 2, \"timestamp\": 1705308290}}\n",
      "Message produced: {\"id\": \"vehicle_position_47/668\", \"vehicle\": {\"trip\": {\"route_id\": \"1016\", \"start_time\": \"10:40:00\", \"start_date\": \"20240115\"}, \"position\": {\"latitude\": 60.188262939453125, \"longitude\": 25.010814666748047, \"bearing\": 97.0, \"odometer\": 2091.0, \"speed\": 7.920000076293945}, \"stop_id\": \"1420112\", \"current_status\": 2, \"timestamp\": 1705308295}}\n",
      "Message produced: {\"id\": \"vehicle_position_47/668\", \"vehicle\": {\"trip\": {\"route_id\": \"1016\", \"start_time\": \"10:40:00\", \"start_date\": \"20240115\"}, \"position\": {\"latitude\": 60.18826675415039, \"longitude\": 25.01148223876953, \"bearing\": 87.0, \"odometer\": 2131.0, \"speed\": 5.920000076293945}, \"stop_id\": \"1420112\", \"current_status\": 2, \"timestamp\": 1705308301}}\n",
      "Message produced: {\"id\": \"vehicle_position_47/668\", \"vehicle\": {\"trip\": {\"route_id\": \"1016\", \"start_time\": \"10:40:00\", \"start_date\": \"20240115\"}, \"position\": {\"latitude\": 60.18828582763672, \"longitude\": 25.011978149414062, \"bearing\": 92.0, \"odometer\": 2156.0, \"speed\": 7.460000038146973}, \"stop_id\": \"1420112\", \"current_status\": 2, \"timestamp\": 1705308305}}\n",
      "Message produced: {\"id\": \"vehicle_position_47/668\", \"vehicle\": {\"trip\": {\"route_id\": \"1016\", \"start_time\": \"10:40:00\", \"start_date\": \"20240115\"}, \"position\": {\"latitude\": 60.188289642333984, \"longitude\": 25.012542724609375, \"bearing\": 88.0, \"odometer\": 2185.0, \"speed\": 8.079999923706055}, \"stop_id\": \"1420112\", \"current_status\": 2, \"timestamp\": 1705308309}}\n",
      "Message produced: {\"id\": \"vehicle_position_47/668\", \"vehicle\": {\"trip\": {\"route_id\": \"1016\", \"start_time\": \"10:40:00\", \"start_date\": \"20240115\"}, \"position\": {\"latitude\": 60.18832778930664, \"longitude\": 25.012998580932617, \"bearing\": 79.0, \"odometer\": 2210.0, \"speed\": 8.850000381469727}, \"stop_id\": \"1420112\", \"current_status\": 2, \"timestamp\": 1705308312}}\n",
      "Message produced: {\"id\": \"vehicle_position_47/668\", \"vehicle\": {\"trip\": {\"route_id\": \"1016\", \"start_time\": \"10:40:00\", \"start_date\": \"20240115\"}, \"position\": {\"latitude\": 60.188499450683594, \"longitude\": 25.01376724243164, \"bearing\": 60.0, \"odometer\": 2259.0, \"speed\": 6.019999980926514}, \"stop_id\": \"1420112\", \"current_status\": 0, \"timestamp\": 1705308318}}\n",
      "Message produced: {\"id\": \"vehicle_position_47/668\", \"vehicle\": {\"trip\": {\"route_id\": \"1016\", \"start_time\": \"10:40:00\", \"start_date\": \"20240115\"}, \"position\": {\"latitude\": 60.188499450683594, \"longitude\": 25.014514923095703, \"bearing\": 115.0, \"odometer\": 2304.0, \"speed\": 7.099999904632568}, \"stop_id\": \"1420112\", \"current_status\": 0, \"timestamp\": 1705308326}}\n",
      "Message produced: {\"id\": \"vehicle_position_47/668\", \"vehicle\": {\"trip\": {\"route_id\": \"1016\", \"start_time\": \"10:40:00\", \"start_date\": \"20240115\"}, \"position\": {\"latitude\": 60.18836212158203, \"longitude\": 25.01491928100586, \"bearing\": 121.0, \"odometer\": 2334.0, \"speed\": 4.420000076293945}, \"stop_id\": \"1420112\", \"current_status\": 0, \"timestamp\": 1705308330}}\n",
      "Message produced: {\"id\": \"vehicle_position_47/668\", \"vehicle\": {\"trip\": {\"route_id\": \"1016\", \"start_time\": \"10:40:00\", \"start_date\": \"20240115\"}, \"position\": {\"latitude\": 60.188331604003906, \"longitude\": 25.015043258666992, \"bearing\": 118.0, \"odometer\": 2343.0, \"speed\": 0.9800000190734863}, \"stop_id\": \"1420112\", \"current_status\": 1, \"timestamp\": 1705308333}}\n",
      "Message produced: {\"id\": \"vehicle_position_47/668\", \"vehicle\": {\"trip\": {\"route_id\": \"1016\", \"start_time\": \"10:40:00\", \"start_date\": \"20240115\"}, \"position\": {\"latitude\": 60.188331604003906, \"longitude\": 25.01504135131836, \"bearing\": 118.0, \"odometer\": 2343.0, \"speed\": 0.0}, \"stop_id\": \"1420112\", \"current_status\": 1, \"timestamp\": 1705308339}}\n",
      "Message produced: {\"id\": \"vehicle_position_47/668\", \"vehicle\": {\"trip\": {\"route_id\": \"1016\", \"start_time\": \"10:40:00\", \"start_date\": \"20240115\"}, \"position\": {\"latitude\": 60.188323974609375, \"longitude\": 25.01506805419922, \"bearing\": 117.0, \"odometer\": 2343.0, \"speed\": 1.7000000476837158}, \"stop_id\": \"1420112\", \"current_status\": 1, \"timestamp\": 1705308343}}\n",
      "Message produced: {\"id\": \"vehicle_position_47/668\", \"vehicle\": {\"trip\": {\"route_id\": \"1016\", \"start_time\": \"10:40:00\", \"start_date\": \"20240115\"}, \"position\": {\"latitude\": 60.18824768066406, \"longitude\": 25.015363693237305, \"bearing\": 127.0, \"odometer\": 2363.0, \"speed\": 4.420000076293945}, \"stop_id\": \"1420112\", \"current_status\": 1, \"timestamp\": 1705308348}}\n",
      "Message produced: {\"id\": \"vehicle_position_47/668\", \"vehicle\": {\"trip\": {\"route_id\": \"1016\", \"start_time\": \"10:40:00\", \"start_date\": \"20240115\"}, \"position\": {\"latitude\": 60.18797302246094, \"longitude\": 25.015457153320312, \"bearing\": 187.0, \"odometer\": 2393.0, \"speed\": 6.28000020980835}, \"stop_id\": \"1420112\", \"current_status\": 1, \"timestamp\": 1705308354}}\n",
      "Message produced: {\"id\": \"vehicle_position_47/668\", \"vehicle\": {\"trip\": {\"route_id\": \"1016\", \"start_time\": \"10:40:00\", \"start_date\": \"20240115\"}, \"position\": {\"latitude\": 60.18769073486328, \"longitude\": 25.01544952392578, \"bearing\": 182.0, \"odometer\": 2423.0, \"speed\": 8.899999618530273}, \"stop_id\": \"1420110\", \"current_status\": 2, \"timestamp\": 1705308358}}\n",
      "Message produced: {\"id\": \"vehicle_position_47/668\", \"vehicle\": {\"trip\": {\"route_id\": \"1016\", \"start_time\": \"10:40:00\", \"start_date\": \"20240115\"}, \"position\": {\"latitude\": 60.18724060058594, \"longitude\": 25.01551055908203, \"bearing\": 177.0, \"odometer\": 2477.0, \"speed\": 8.130000114440918}, \"stop_id\": \"1420110\", \"current_status\": 2, \"timestamp\": 1705308364}}\n",
      "Message produced: {\"id\": \"vehicle_position_47/668\", \"vehicle\": {\"trip\": {\"route_id\": \"1016\", \"start_time\": \"10:40:00\", \"start_date\": \"20240115\"}, \"position\": {\"latitude\": 60.18687057495117, \"longitude\": 25.015487670898438, \"bearing\": 177.0, \"odometer\": 2517.0, \"speed\": 6.889999866485596}, \"stop_id\": \"1420110\", \"current_status\": 2, \"timestamp\": 1705308370}}\n",
      "Message produced: {\"id\": \"vehicle_position_47/668\", \"vehicle\": {\"trip\": {\"route_id\": \"1016\", \"start_time\": \"10:40:00\", \"start_date\": \"20240115\"}, \"position\": {\"latitude\": 60.18653106689453, \"longitude\": 25.01555824279785, \"bearing\": 183.0, \"odometer\": 2556.0, \"speed\": 7.820000171661377}, \"stop_id\": \"1420110\", \"current_status\": 2, \"timestamp\": 1705308375}}\n",
      "Message produced: {\"id\": \"vehicle_position_47/668\", \"vehicle\": {\"trip\": {\"route_id\": \"1016\", \"start_time\": \"10:40:00\", \"start_date\": \"20240115\"}, \"position\": {\"latitude\": 60.186256408691406, \"longitude\": 25.015424728393555, \"bearing\": 200.0, \"odometer\": 2586.0, \"speed\": 6.789999961853027}, \"stop_id\": \"1420110\", \"current_status\": 0, \"timestamp\": 1705308379}}\n",
      "Message produced: {\"id\": \"vehicle_position_47/668\", \"vehicle\": {\"trip\": {\"route_id\": \"1016\", \"start_time\": \"10:40:00\", \"start_date\": \"20240115\"}, \"position\": {\"latitude\": 60.18601608276367, \"longitude\": 25.015239715576172, \"bearing\": 202.0, \"odometer\": 2615.0, \"speed\": 5.659999847412109}, \"stop_id\": \"1420110\", \"current_status\": 0, \"timestamp\": 1705308384}}\n",
      "Message produced: {\"id\": \"vehicle_position_47/668\", \"vehicle\": {\"trip\": {\"route_id\": \"1016\", \"start_time\": \"10:40:00\", \"start_date\": \"20240115\"}, \"position\": {\"latitude\": 60.185768127441406, \"longitude\": 25.01506233215332, \"bearing\": 203.0, \"odometer\": 2645.0, \"speed\": 8.899999618530273}, \"stop_id\": \"1420110\", \"current_status\": 0, \"timestamp\": 1705308388}}\n",
      "Message produced: {\"id\": \"vehicle_position_47/668\", \"vehicle\": {\"trip\": {\"route_id\": \"1016\", \"start_time\": \"10:40:00\", \"start_date\": \"20240115\"}, \"position\": {\"latitude\": 60.18538284301758, \"longitude\": 25.014741897583008, \"bearing\": 204.0, \"odometer\": 2690.0, \"speed\": 9.720000267028809}, \"stop_id\": \"1420110\", \"current_status\": 0, \"timestamp\": 1705308393}}\n",
      "Message produced: {\"id\": \"vehicle_position_47/668\", \"vehicle\": {\"trip\": {\"route_id\": \"1016\", \"start_time\": \"10:40:00\", \"start_date\": \"20240115\"}, \"position\": {\"latitude\": 60.18486404418945, \"longitude\": 25.01431655883789, \"bearing\": 204.0, \"odometer\": 2749.0, \"speed\": 10.1899995803833}, \"stop_id\": \"1420108\", \"current_status\": 2, \"timestamp\": 1705308399}}\n",
      "Message produced: {\"id\": \"vehicle_position_47/668\", \"vehicle\": {\"trip\": {\"route_id\": \"1016\", \"start_time\": \"10:40:00\", \"start_date\": \"20240115\"}, \"position\": {\"latitude\": 60.18452835083008, \"longitude\": 25.014039993286133, \"bearing\": 203.0, \"odometer\": 2788.0, \"speed\": 9.829999923706055}, \"stop_id\": \"1420108\", \"current_status\": 2, \"timestamp\": 1705308403}}\n",
      "Message produced: {\"id\": \"vehicle_position_47/668\", \"vehicle\": {\"trip\": {\"route_id\": \"1016\", \"start_time\": \"10:40:00\", \"start_date\": \"20240115\"}, \"position\": {\"latitude\": 60.1842155456543, \"longitude\": 25.0137939453125, \"bearing\": 203.0, \"odometer\": 2828.0, \"speed\": 9.109999656677246}, \"stop_id\": \"1420108\", \"current_status\": 2, \"timestamp\": 1705308407}}\n",
      "Message produced: {\"id\": \"vehicle_position_47/668\", \"vehicle\": {\"trip\": {\"route_id\": \"1016\", \"start_time\": \"10:40:00\", \"start_date\": \"20240115\"}, \"position\": {\"latitude\": 60.18382263183594, \"longitude\": 25.013486862182617, \"bearing\": 203.0, \"odometer\": 2877.0, \"speed\": 5.920000076293945}, \"stop_id\": \"1420108\", \"current_status\": 2, \"timestamp\": 1705308413}}\n",
      "Message produced: {\"id\": \"vehicle_position_47/668\", \"vehicle\": {\"trip\": {\"route_id\": \"1016\", \"start_time\": \"10:40:00\", \"start_date\": \"20240115\"}, \"position\": {\"latitude\": 60.18366241455078, \"longitude\": 25.01337432861328, \"bearing\": 207.0, \"odometer\": 2897.0, \"speed\": 4.480000019073486}, \"stop_id\": \"1420108\", \"current_status\": 2, \"timestamp\": 1705308418}}\n",
      "Message produced: {\"id\": \"vehicle_position_47/668\", \"vehicle\": {\"trip\": {\"route_id\": \"1016\", \"start_time\": \"10:40:00\", \"start_date\": \"20240115\"}, \"position\": {\"latitude\": 60.18352508544922, \"longitude\": 25.013132095336914, \"bearing\": 244.0, \"odometer\": 2917.0, \"speed\": 5.710000038146973}, \"stop_id\": \"1420108\", \"current_status\": 0, \"timestamp\": 1705308422}}\n",
      "Message produced: {\"id\": \"vehicle_position_47/668\", \"vehicle\": {\"trip\": {\"route_id\": \"1016\", \"start_time\": \"10:40:00\", \"start_date\": \"20240115\"}, \"position\": {\"latitude\": 60.183528900146484, \"longitude\": 25.012554168701172, \"bearing\": 285.0, \"odometer\": 2952.0, \"speed\": 6.889999866485596}, \"stop_id\": \"1420108\", \"current_status\": 0, \"timestamp\": 1705308427}}\n",
      "Message produced: {\"id\": \"vehicle_position_47/668\", \"vehicle\": {\"trip\": {\"route_id\": \"1016\", \"start_time\": \"10:40:00\", \"start_date\": \"20240115\"}, \"position\": {\"latitude\": 60.18357849121094, \"longitude\": 25.01188850402832, \"bearing\": 283.0, \"odometer\": 2991.0, \"speed\": 7.460000038146973}, \"stop_id\": \"1420108\", \"current_status\": 0, \"timestamp\": 1705308432}}\n",
      "Message produced: {\"id\": \"vehicle_position_47/668\", \"vehicle\": {\"trip\": {\"route_id\": \"1016\", \"start_time\": \"10:40:00\", \"start_date\": \"20240115\"}, \"position\": {\"latitude\": 60.18364334106445, \"longitude\": 25.011157989501953, \"bearing\": 290.0, \"odometer\": 3031.0, \"speed\": 8.6899995803833}, \"stop_id\": \"1420108\", \"current_status\": 0, \"timestamp\": 1705308437}}\n",
      "Message produced: {\"id\": \"vehicle_position_47/668\", \"vehicle\": {\"trip\": {\"route_id\": \"1016\", \"start_time\": \"10:40:00\", \"start_date\": \"20240115\"}, \"position\": {\"latitude\": 60.183753967285156, \"longitude\": 25.010562896728516, \"bearing\": 297.0, \"odometer\": 3065.0, \"speed\": 7.869999885559082}, \"stop_id\": \"1420106\", \"current_status\": 2, \"timestamp\": 1705308441}}\n",
      "Message produced: {\"id\": \"vehicle_position_47/668\", \"vehicle\": {\"trip\": {\"route_id\": \"1016\", \"start_time\": \"10:40:00\", \"start_date\": \"20240115\"}, \"position\": {\"latitude\": 60.183929443359375, \"longitude\": 25.00994110107422, \"bearing\": 300.0, \"odometer\": 3105.0, \"speed\": 8.489999771118164}, \"stop_id\": \"1420106\", \"current_status\": 2, \"timestamp\": 1705308446}}\n",
      "Message produced: {\"id\": \"vehicle_position_47/668\", \"vehicle\": {\"trip\": {\"route_id\": \"1016\", \"start_time\": \"10:40:00\", \"start_date\": \"20240115\"}, \"position\": {\"latitude\": 60.1840934753418, \"longitude\": 25.009305953979492, \"bearing\": 296.0, \"odometer\": 3144.0, \"speed\": 7.510000228881836}, \"stop_id\": \"1420106\", \"current_status\": 2, \"timestamp\": 1705308451}}\n",
      "Message produced: {\"id\": \"vehicle_position_47/668\", \"vehicle\": {\"trip\": {\"route_id\": \"1016\", \"start_time\": \"10:40:00\", \"start_date\": \"20240115\"}, \"position\": {\"latitude\": 60.1842155456543, \"longitude\": 25.008546829223633, \"bearing\": 282.0, \"odometer\": 3189.0, \"speed\": 8.75}, \"stop_id\": \"1420106\", \"current_status\": 2, \"timestamp\": 1705308456}}\n",
      "Message produced: {\"id\": \"vehicle_position_47/668\", \"vehicle\": {\"trip\": {\"route_id\": \"1016\", \"start_time\": \"10:40:00\", \"start_date\": \"20240115\"}, \"position\": {\"latitude\": 60.184242248535156, \"longitude\": 25.00784683227539, \"bearing\": 268.0, \"odometer\": 3224.0, \"speed\": 9.109999656677246}, \"stop_id\": \"1420106\", \"current_status\": 2, \"timestamp\": 1705308460}}\n",
      "Message produced: {\"id\": \"vehicle_position_47/668\", \"vehicle\": {\"trip\": {\"route_id\": \"1016\", \"start_time\": \"10:40:00\", \"start_date\": \"20240115\"}, \"position\": {\"latitude\": 60.18410110473633, \"longitude\": 25.0068359375, \"bearing\": 249.0, \"odometer\": 3283.0, \"speed\": 9.15999984741211}, \"stop_id\": \"1420106\", \"current_status\": 2, \"timestamp\": 1705308466}}\n",
      "Message produced: {\"id\": \"vehicle_position_47/668\", \"vehicle\": {\"trip\": {\"route_id\": \"1016\", \"start_time\": \"10:40:00\", \"start_date\": \"20240115\"}, \"position\": {\"latitude\": 60.1840705871582, \"longitude\": 25.006145477294922, \"bearing\": 269.0, \"odometer\": 3322.0, \"speed\": 8.6899995803833}, \"stop_id\": \"1420106\", \"current_status\": 0, \"timestamp\": 1705308470}}\n",
      "Message produced: {\"id\": \"vehicle_position_47/668\", \"vehicle\": {\"trip\": {\"route_id\": \"1016\", \"start_time\": \"10:40:00\", \"start_date\": \"20240115\"}, \"position\": {\"latitude\": 60.18415451049805, \"longitude\": 25.005409240722656, \"bearing\": 296.0, \"odometer\": 3362.0, \"speed\": 6.840000152587891}, \"stop_id\": \"1420106\", \"current_status\": 0, \"timestamp\": 1705308475}}\n",
      "Message produced: {\"id\": \"vehicle_position_47/668\", \"vehicle\": {\"trip\": {\"route_id\": \"1016\", \"start_time\": \"10:40:00\", \"start_date\": \"20240115\"}, \"position\": {\"latitude\": 60.184261322021484, \"longitude\": 25.004776000976562, \"bearing\": 290.0, \"odometer\": 3401.0, \"speed\": 7.610000133514404}, \"stop_id\": \"1420106\", \"current_status\": 0, \"timestamp\": 1705308480}}\n",
      "Message produced: {\"id\": \"vehicle_position_47/668\", \"vehicle\": {\"trip\": {\"route_id\": \"1016\", \"start_time\": \"10:40:00\", \"start_date\": \"20240115\"}, \"position\": {\"latitude\": 60.18442153930664, \"longitude\": 25.004016876220703, \"bearing\": 298.0, \"odometer\": 3446.0, \"speed\": 6.480000019073486}, \"stop_id\": \"1420104\", \"current_status\": 2, \"timestamp\": 1705308486}}\n",
      "Message produced: {\"id\": \"vehicle_position_47/668\", \"vehicle\": {\"trip\": {\"route_id\": \"1016\", \"start_time\": \"10:40:00\", \"start_date\": \"20240115\"}, \"position\": {\"latitude\": 60.18449783325195, \"longitude\": 25.00375747680664, \"bearing\": 304.0, \"odometer\": 3461.0, \"speed\": 4.21999979019165}, \"stop_id\": \"1420104\", \"current_status\": 2, \"timestamp\": 1705308489}}\n",
      "Message produced: {\"id\": \"vehicle_position_47/668\", \"vehicle\": {\"trip\": {\"route_id\": \"1016\", \"start_time\": \"10:40:00\", \"start_date\": \"20240115\"}, \"position\": {\"latitude\": 60.184539794921875, \"longitude\": 25.003599166870117, \"bearing\": 300.0, \"odometer\": 3476.0, \"speed\": 0.8199999928474426}, \"stop_id\": \"1420104\", \"current_status\": 2, \"timestamp\": 1705308494}}\n",
      "Message produced: {\"id\": \"vehicle_position_47/668\", \"vehicle\": {\"trip\": {\"route_id\": \"1016\", \"start_time\": \"10:40:00\", \"start_date\": \"20240115\"}, \"position\": {\"latitude\": 60.18455505371094, \"longitude\": 25.003555297851562, \"bearing\": 300.0, \"odometer\": 3476.0, \"speed\": 0.05000000074505806}, \"stop_id\": \"1420104\", \"current_status\": 2, \"timestamp\": 1705308500}}\n",
      "Message produced: {\"id\": \"vehicle_position_47/668\", \"vehicle\": {\"trip\": {\"route_id\": \"1016\", \"start_time\": \"10:40:00\", \"start_date\": \"20240115\"}, \"position\": {\"latitude\": 60.18455505371094, \"longitude\": 25.00355339050293, \"bearing\": 300.0, \"odometer\": 3476.0, \"speed\": 0.0}, \"stop_id\": \"1420104\", \"current_status\": 2, \"timestamp\": 1705308504}}\n",
      "Message produced: {\"id\": \"vehicle_position_47/668\", \"vehicle\": {\"trip\": {\"route_id\": \"1016\", \"start_time\": \"10:40:00\", \"start_date\": \"20240115\"}, \"position\": {\"latitude\": 60.184547424316406, \"longitude\": 25.003572463989258, \"bearing\": 300.0, \"odometer\": 3476.0, \"speed\": 0.0}, \"stop_id\": \"1420104\", \"current_status\": 2, \"timestamp\": 1705308509}}\n",
      "Message produced: {\"id\": \"vehicle_position_47/668\", \"vehicle\": {\"trip\": {\"route_id\": \"1016\", \"start_time\": \"10:40:00\", \"start_date\": \"20240115\"}, \"position\": {\"latitude\": 60.184547424316406, \"longitude\": 25.00357437133789, \"bearing\": 300.0, \"odometer\": 3476.0, \"speed\": 0.0}, \"stop_id\": \"1420104\", \"current_status\": 2, \"timestamp\": 1705308514}}\n",
      "Message produced: {\"id\": \"vehicle_position_47/668\", \"vehicle\": {\"trip\": {\"route_id\": \"1016\", \"start_time\": \"10:40:00\", \"start_date\": \"20240115\"}, \"position\": {\"latitude\": 60.18455123901367, \"longitude\": 25.003555297851562, \"bearing\": 299.0, \"odometer\": 3476.0, \"speed\": 1.1799999475479126}, \"stop_id\": \"1420104\", \"current_status\": 2, \"timestamp\": 1705308519}}\n",
      "Message produced: {\"id\": \"vehicle_position_47/668\", \"vehicle\": {\"trip\": {\"route_id\": \"1016\", \"start_time\": \"10:40:00\", \"start_date\": \"20240115\"}, \"position\": {\"latitude\": 60.1845703125, \"longitude\": 25.003406524658203, \"bearing\": 292.0, \"odometer\": 3486.0, \"speed\": 3.6500000953674316}, \"stop_id\": \"1420104\", \"current_status\": 2, \"timestamp\": 1705308523}}\n",
      "Message produced: {\"id\": \"vehicle_position_47/668\", \"vehicle\": {\"trip\": {\"route_id\": \"1016\", \"start_time\": \"10:40:00\", \"start_date\": \"20240115\"}, \"position\": {\"latitude\": 60.18471908569336, \"longitude\": 25.002906799316406, \"bearing\": 310.0, \"odometer\": 3515.0, \"speed\": 5.96999979019165}, \"stop_id\": \"1420104\", \"current_status\": 2, \"timestamp\": 1705308529}}\n",
      "Message produced: {\"id\": \"vehicle_position_47/668\", \"vehicle\": {\"trip\": {\"route_id\": \"1016\", \"start_time\": \"10:40:00\", \"start_date\": \"20240115\"}, \"position\": {\"latitude\": 60.1848258972168, \"longitude\": 25.00269317626953, \"bearing\": 317.0, \"odometer\": 3535.0, \"speed\": 2.1600000858306885}, \"stop_id\": \"1420104\", \"current_status\": 2, \"timestamp\": 1705308533}}\n",
      "Message produced: {\"id\": \"vehicle_position_47/668\", \"vehicle\": {\"trip\": {\"route_id\": \"1016\", \"start_time\": \"10:40:00\", \"start_date\": \"20240115\"}, \"position\": {\"latitude\": 60.184898376464844, \"longitude\": 25.002548217773438, \"bearing\": 308.0, \"odometer\": 3545.0, \"speed\": 2.309999942779541}, \"stop_id\": \"1420104\", \"current_status\": 2, \"timestamp\": 1705308538}}\n",
      "Message produced: {\"id\": \"vehicle_position_47/668\", \"vehicle\": {\"trip\": {\"route_id\": \"1016\", \"start_time\": \"10:40:00\", \"start_date\": \"20240115\"}, \"position\": {\"latitude\": 60.18503952026367, \"longitude\": 25.002254486083984, \"bearing\": 317.0, \"odometer\": 3565.0, \"speed\": 6.639999866485596}, \"stop_id\": \"1420104\", \"current_status\": 2, \"timestamp\": 1705308543}}\n",
      "Message produced: {\"id\": \"vehicle_position_47/668\", \"vehicle\": {\"trip\": {\"route_id\": \"1016\", \"start_time\": \"10:40:00\", \"start_date\": \"20240115\"}, \"position\": {\"latitude\": 60.18526077270508, \"longitude\": 25.001861572265625, \"bearing\": 324.0, \"odometer\": 3599.0, \"speed\": 5.860000133514404}, \"stop_id\": \"1420104\", \"current_status\": 2, \"timestamp\": 1705308548}}\n",
      "Message produced: {\"id\": \"vehicle_position_47/668\", \"vehicle\": {\"trip\": {\"route_id\": \"1016\", \"start_time\": \"10:40:00\", \"start_date\": \"20240115\"}, \"position\": {\"latitude\": 60.18543243408203, \"longitude\": 25.0015869140625, \"bearing\": 322.0, \"odometer\": 3624.0, \"speed\": 6.329999923706055}, \"stop_id\": \"1420104\", \"current_status\": 0, \"timestamp\": 1705308552}}\n",
      "Message produced: {\"id\": \"vehicle_position_47/668\", \"vehicle\": {\"trip\": {\"route_id\": \"1016\", \"start_time\": \"10:40:00\", \"start_date\": \"20240115\"}, \"position\": {\"latitude\": 60.18571853637695, \"longitude\": 25.001008987426758, \"bearing\": 315.0, \"odometer\": 3668.0, \"speed\": 6.28000020980835}, \"stop_id\": \"1420104\", \"current_status\": 0, \"timestamp\": 1705308559}}\n",
      "Message produced: {\"id\": \"vehicle_position_47/668\", \"vehicle\": {\"trip\": {\"route_id\": \"1016\", \"start_time\": \"10:40:00\", \"start_date\": \"20240115\"}, \"position\": {\"latitude\": 60.185909271240234, \"longitude\": 25.000511169433594, \"bearing\": 303.0, \"odometer\": 3703.0, \"speed\": 6.429999828338623}, \"stop_id\": \"1420104\", \"current_status\": 0, \"timestamp\": 1705308564}}\n",
      "Message produced: {\"id\": \"vehicle_position_47/668\", \"vehicle\": {\"trip\": {\"route_id\": \"1016\", \"start_time\": \"10:40:00\", \"start_date\": \"20240115\"}, \"position\": {\"latitude\": 60.186031341552734, \"longitude\": 25.00003433227539, \"bearing\": 295.0, \"odometer\": 3733.0, \"speed\": 4.989999771118164}, \"stop_id\": \"1420102\", \"current_status\": 2, \"timestamp\": 1705308569}}\n"
     ]
    },
    {
     "ename": "KeyboardInterrupt",
     "evalue": "",
     "output_type": "error",
     "traceback": [
      "\u001b[1;31m---------------------------------------------------------------------------\u001b[0m",
      "\u001b[1;31mKeyboardInterrupt\u001b[0m                         Traceback (most recent call last)",
      "Cell \u001b[1;32mIn[38], line 1\u001b[0m\n\u001b[1;32m----> 1\u001b[0m \u001b[43mproduce_kafka_messages\u001b[49m\u001b[43m(\u001b[49m\u001b[43m)\u001b[49m\n",
      "Cell \u001b[1;32mIn[36], line 84\u001b[0m, in \u001b[0;36mproduce_kafka_messages\u001b[1;34m()\u001b[0m\n\u001b[0;32m     79\u001b[0m producer \u001b[38;5;241m=\u001b[39m KafkaProducer(bootstrap_servers\u001b[38;5;241m=\u001b[39mKAFKA_SERVER, \n\u001b[0;32m     80\u001b[0m                          api_version\u001b[38;5;241m=\u001b[39m(\u001b[38;5;241m0\u001b[39m,\u001b[38;5;241m11\u001b[39m,\u001b[38;5;241m5\u001b[39m),\n\u001b[0;32m     81\u001b[0m                          value_serializer\u001b[38;5;241m=\u001b[39m\u001b[38;5;28;01mlambda\u001b[39;00m x: json\u001b[38;5;241m.\u001b[39mdumps(x)\u001b[38;5;241m.\u001b[39mencode(\u001b[38;5;124m'\u001b[39m\u001b[38;5;124mutf-8\u001b[39m\u001b[38;5;124m'\u001b[39m))\n\u001b[0;32m     83\u001b[0m \u001b[38;5;28;01mwhile\u001b[39;00m \u001b[38;5;28;01mTrue\u001b[39;00m:\n\u001b[1;32m---> 84\u001b[0m     coordinates \u001b[38;5;241m=\u001b[39m \u001b[43mfetch_coordinates\u001b[49m\u001b[43m(\u001b[49m\u001b[43m)\u001b[49m\n\u001b[0;32m     85\u001b[0m     \u001b[38;5;28;01mif\u001b[39;00m coordinates:\n\u001b[0;32m     86\u001b[0m         producer\u001b[38;5;241m.\u001b[39msend(TOPIC, value\u001b[38;5;241m=\u001b[39mcoordinates)\n",
      "Cell \u001b[1;32mIn[36], line 20\u001b[0m, in \u001b[0;36mfetch_coordinates\u001b[1;34m()\u001b[0m\n\u001b[0;32m     17\u001b[0m response \u001b[38;5;241m=\u001b[39m requests\u001b[38;5;241m.\u001b[39mget(api_url)\n\u001b[0;32m     18\u001b[0m \u001b[38;5;28;01mif\u001b[39;00m response\u001b[38;5;241m.\u001b[39mstatus_code \u001b[38;5;241m==\u001b[39m \u001b[38;5;241m200\u001b[39m:\n\u001b[0;32m     19\u001b[0m     \u001b[38;5;66;03m# Fetch the GTFS-RT payload\u001b[39;00m\n\u001b[1;32m---> 20\u001b[0m     response \u001b[38;5;241m=\u001b[39m \u001b[43mrequests\u001b[49m\u001b[38;5;241;43m.\u001b[39;49m\u001b[43mget\u001b[49m\u001b[43m(\u001b[49m\u001b[43mapi_url\u001b[49m\u001b[43m)\u001b[49m\n\u001b[0;32m     21\u001b[0m     payload \u001b[38;5;241m=\u001b[39m response\u001b[38;5;241m.\u001b[39mcontent\n\u001b[0;32m     23\u001b[0m     \u001b[38;5;66;03m# Create a GTFS-RT feed message\u001b[39;00m\n",
      "File \u001b[1;32mc:\\Users\\HP\\AppData\\Local\\Programs\\Python\\Python38\\lib\\site-packages\\requests\\api.py:73\u001b[0m, in \u001b[0;36mget\u001b[1;34m(url, params, **kwargs)\u001b[0m\n\u001b[0;32m     62\u001b[0m \u001b[38;5;28;01mdef\u001b[39;00m \u001b[38;5;21mget\u001b[39m(url, params\u001b[38;5;241m=\u001b[39m\u001b[38;5;28;01mNone\u001b[39;00m, \u001b[38;5;241m*\u001b[39m\u001b[38;5;241m*\u001b[39mkwargs):\n\u001b[0;32m     63\u001b[0m \u001b[38;5;250m    \u001b[39m\u001b[38;5;124mr\u001b[39m\u001b[38;5;124;03m\"\"\"Sends a GET request.\u001b[39;00m\n\u001b[0;32m     64\u001b[0m \n\u001b[0;32m     65\u001b[0m \u001b[38;5;124;03m    :param url: URL for the new :class:`Request` object.\u001b[39;00m\n\u001b[1;32m   (...)\u001b[0m\n\u001b[0;32m     70\u001b[0m \u001b[38;5;124;03m    :rtype: requests.Response\u001b[39;00m\n\u001b[0;32m     71\u001b[0m \u001b[38;5;124;03m    \"\"\"\u001b[39;00m\n\u001b[1;32m---> 73\u001b[0m     \u001b[38;5;28;01mreturn\u001b[39;00m \u001b[43mrequest\u001b[49m\u001b[43m(\u001b[49m\u001b[38;5;124;43m\"\u001b[39;49m\u001b[38;5;124;43mget\u001b[39;49m\u001b[38;5;124;43m\"\u001b[39;49m\u001b[43m,\u001b[49m\u001b[43m \u001b[49m\u001b[43murl\u001b[49m\u001b[43m,\u001b[49m\u001b[43m \u001b[49m\u001b[43mparams\u001b[49m\u001b[38;5;241;43m=\u001b[39;49m\u001b[43mparams\u001b[49m\u001b[43m,\u001b[49m\u001b[43m \u001b[49m\u001b[38;5;241;43m*\u001b[39;49m\u001b[38;5;241;43m*\u001b[39;49m\u001b[43mkwargs\u001b[49m\u001b[43m)\u001b[49m\n",
      "File \u001b[1;32mc:\\Users\\HP\\AppData\\Local\\Programs\\Python\\Python38\\lib\\site-packages\\requests\\api.py:59\u001b[0m, in \u001b[0;36mrequest\u001b[1;34m(method, url, **kwargs)\u001b[0m\n\u001b[0;32m     55\u001b[0m \u001b[38;5;66;03m# By using the 'with' statement we are sure the session is closed, thus we\u001b[39;00m\n\u001b[0;32m     56\u001b[0m \u001b[38;5;66;03m# avoid leaving sockets open which can trigger a ResourceWarning in some\u001b[39;00m\n\u001b[0;32m     57\u001b[0m \u001b[38;5;66;03m# cases, and look like a memory leak in others.\u001b[39;00m\n\u001b[0;32m     58\u001b[0m \u001b[38;5;28;01mwith\u001b[39;00m sessions\u001b[38;5;241m.\u001b[39mSession() \u001b[38;5;28;01mas\u001b[39;00m session:\n\u001b[1;32m---> 59\u001b[0m     \u001b[38;5;28;01mreturn\u001b[39;00m \u001b[43msession\u001b[49m\u001b[38;5;241;43m.\u001b[39;49m\u001b[43mrequest\u001b[49m\u001b[43m(\u001b[49m\u001b[43mmethod\u001b[49m\u001b[38;5;241;43m=\u001b[39;49m\u001b[43mmethod\u001b[49m\u001b[43m,\u001b[49m\u001b[43m \u001b[49m\u001b[43murl\u001b[49m\u001b[38;5;241;43m=\u001b[39;49m\u001b[43murl\u001b[49m\u001b[43m,\u001b[49m\u001b[43m \u001b[49m\u001b[38;5;241;43m*\u001b[39;49m\u001b[38;5;241;43m*\u001b[39;49m\u001b[43mkwargs\u001b[49m\u001b[43m)\u001b[49m\n",
      "File \u001b[1;32mc:\\Users\\HP\\AppData\\Local\\Programs\\Python\\Python38\\lib\\site-packages\\requests\\sessions.py:589\u001b[0m, in \u001b[0;36mSession.request\u001b[1;34m(self, method, url, params, data, headers, cookies, files, auth, timeout, allow_redirects, proxies, hooks, stream, verify, cert, json)\u001b[0m\n\u001b[0;32m    584\u001b[0m send_kwargs \u001b[38;5;241m=\u001b[39m {\n\u001b[0;32m    585\u001b[0m     \u001b[38;5;124m\"\u001b[39m\u001b[38;5;124mtimeout\u001b[39m\u001b[38;5;124m\"\u001b[39m: timeout,\n\u001b[0;32m    586\u001b[0m     \u001b[38;5;124m\"\u001b[39m\u001b[38;5;124mallow_redirects\u001b[39m\u001b[38;5;124m\"\u001b[39m: allow_redirects,\n\u001b[0;32m    587\u001b[0m }\n\u001b[0;32m    588\u001b[0m send_kwargs\u001b[38;5;241m.\u001b[39mupdate(settings)\n\u001b[1;32m--> 589\u001b[0m resp \u001b[38;5;241m=\u001b[39m \u001b[38;5;28;43mself\u001b[39;49m\u001b[38;5;241;43m.\u001b[39;49m\u001b[43msend\u001b[49m\u001b[43m(\u001b[49m\u001b[43mprep\u001b[49m\u001b[43m,\u001b[49m\u001b[43m \u001b[49m\u001b[38;5;241;43m*\u001b[39;49m\u001b[38;5;241;43m*\u001b[39;49m\u001b[43msend_kwargs\u001b[49m\u001b[43m)\u001b[49m\n\u001b[0;32m    591\u001b[0m \u001b[38;5;28;01mreturn\u001b[39;00m resp\n",
      "File \u001b[1;32mc:\\Users\\HP\\AppData\\Local\\Programs\\Python\\Python38\\lib\\site-packages\\requests\\sessions.py:747\u001b[0m, in \u001b[0;36mSession.send\u001b[1;34m(self, request, **kwargs)\u001b[0m\n\u001b[0;32m    744\u001b[0m         \u001b[38;5;28;01mpass\u001b[39;00m\n\u001b[0;32m    746\u001b[0m \u001b[38;5;28;01mif\u001b[39;00m \u001b[38;5;129;01mnot\u001b[39;00m stream:\n\u001b[1;32m--> 747\u001b[0m     \u001b[43mr\u001b[49m\u001b[38;5;241;43m.\u001b[39;49m\u001b[43mcontent\u001b[49m\n\u001b[0;32m    749\u001b[0m \u001b[38;5;28;01mreturn\u001b[39;00m r\n",
      "File \u001b[1;32mc:\\Users\\HP\\AppData\\Local\\Programs\\Python\\Python38\\lib\\site-packages\\requests\\models.py:899\u001b[0m, in \u001b[0;36mResponse.content\u001b[1;34m(self)\u001b[0m\n\u001b[0;32m    897\u001b[0m         \u001b[38;5;28mself\u001b[39m\u001b[38;5;241m.\u001b[39m_content \u001b[38;5;241m=\u001b[39m \u001b[38;5;28;01mNone\u001b[39;00m\n\u001b[0;32m    898\u001b[0m     \u001b[38;5;28;01melse\u001b[39;00m:\n\u001b[1;32m--> 899\u001b[0m         \u001b[38;5;28mself\u001b[39m\u001b[38;5;241m.\u001b[39m_content \u001b[38;5;241m=\u001b[39m \u001b[38;5;124;43mb\u001b[39;49m\u001b[38;5;124;43m\"\u001b[39;49m\u001b[38;5;124;43m\"\u001b[39;49m\u001b[38;5;241;43m.\u001b[39;49m\u001b[43mjoin\u001b[49m\u001b[43m(\u001b[49m\u001b[38;5;28;43mself\u001b[39;49m\u001b[38;5;241;43m.\u001b[39;49m\u001b[43miter_content\u001b[49m\u001b[43m(\u001b[49m\u001b[43mCONTENT_CHUNK_SIZE\u001b[49m\u001b[43m)\u001b[49m\u001b[43m)\u001b[49m \u001b[38;5;129;01mor\u001b[39;00m \u001b[38;5;124mb\u001b[39m\u001b[38;5;124m\"\u001b[39m\u001b[38;5;124m\"\u001b[39m\n\u001b[0;32m    901\u001b[0m \u001b[38;5;28mself\u001b[39m\u001b[38;5;241m.\u001b[39m_content_consumed \u001b[38;5;241m=\u001b[39m \u001b[38;5;28;01mTrue\u001b[39;00m\n\u001b[0;32m    902\u001b[0m \u001b[38;5;66;03m# don't need to release the connection; that's been handled by urllib3\u001b[39;00m\n\u001b[0;32m    903\u001b[0m \u001b[38;5;66;03m# since we exhausted the data.\u001b[39;00m\n",
      "File \u001b[1;32mc:\\Users\\HP\\AppData\\Local\\Programs\\Python\\Python38\\lib\\site-packages\\requests\\models.py:816\u001b[0m, in \u001b[0;36mResponse.iter_content.<locals>.generate\u001b[1;34m()\u001b[0m\n\u001b[0;32m    814\u001b[0m \u001b[38;5;28;01mif\u001b[39;00m \u001b[38;5;28mhasattr\u001b[39m(\u001b[38;5;28mself\u001b[39m\u001b[38;5;241m.\u001b[39mraw, \u001b[38;5;124m\"\u001b[39m\u001b[38;5;124mstream\u001b[39m\u001b[38;5;124m\"\u001b[39m):\n\u001b[0;32m    815\u001b[0m     \u001b[38;5;28;01mtry\u001b[39;00m:\n\u001b[1;32m--> 816\u001b[0m         \u001b[38;5;28;01myield from\u001b[39;00m \u001b[38;5;28mself\u001b[39m\u001b[38;5;241m.\u001b[39mraw\u001b[38;5;241m.\u001b[39mstream(chunk_size, decode_content\u001b[38;5;241m=\u001b[39m\u001b[38;5;28;01mTrue\u001b[39;00m)\n\u001b[0;32m    817\u001b[0m     \u001b[38;5;28;01mexcept\u001b[39;00m ProtocolError \u001b[38;5;28;01mas\u001b[39;00m e:\n\u001b[0;32m    818\u001b[0m         \u001b[38;5;28;01mraise\u001b[39;00m ChunkedEncodingError(e)\n",
      "File \u001b[1;32mc:\\Users\\HP\\AppData\\Local\\Programs\\Python\\Python38\\lib\\site-packages\\urllib3\\response.py:934\u001b[0m, in \u001b[0;36mHTTPResponse.stream\u001b[1;34m(self, amt, decode_content)\u001b[0m\n\u001b[0;32m    932\u001b[0m \u001b[38;5;28;01melse\u001b[39;00m:\n\u001b[0;32m    933\u001b[0m     \u001b[38;5;28;01mwhile\u001b[39;00m \u001b[38;5;129;01mnot\u001b[39;00m is_fp_closed(\u001b[38;5;28mself\u001b[39m\u001b[38;5;241m.\u001b[39m_fp) \u001b[38;5;129;01mor\u001b[39;00m \u001b[38;5;28mlen\u001b[39m(\u001b[38;5;28mself\u001b[39m\u001b[38;5;241m.\u001b[39m_decoded_buffer) \u001b[38;5;241m>\u001b[39m \u001b[38;5;241m0\u001b[39m:\n\u001b[1;32m--> 934\u001b[0m         data \u001b[38;5;241m=\u001b[39m \u001b[38;5;28;43mself\u001b[39;49m\u001b[38;5;241;43m.\u001b[39;49m\u001b[43mread\u001b[49m\u001b[43m(\u001b[49m\u001b[43mamt\u001b[49m\u001b[38;5;241;43m=\u001b[39;49m\u001b[43mamt\u001b[49m\u001b[43m,\u001b[49m\u001b[43m \u001b[49m\u001b[43mdecode_content\u001b[49m\u001b[38;5;241;43m=\u001b[39;49m\u001b[43mdecode_content\u001b[49m\u001b[43m)\u001b[49m\n\u001b[0;32m    936\u001b[0m         \u001b[38;5;28;01mif\u001b[39;00m data:\n\u001b[0;32m    937\u001b[0m             \u001b[38;5;28;01myield\u001b[39;00m data\n",
      "File \u001b[1;32mc:\\Users\\HP\\AppData\\Local\\Programs\\Python\\Python38\\lib\\site-packages\\urllib3\\response.py:877\u001b[0m, in \u001b[0;36mHTTPResponse.read\u001b[1;34m(self, amt, decode_content, cache_content)\u001b[0m\n\u001b[0;32m    874\u001b[0m     \u001b[38;5;28;01mif\u001b[39;00m \u001b[38;5;28mlen\u001b[39m(\u001b[38;5;28mself\u001b[39m\u001b[38;5;241m.\u001b[39m_decoded_buffer) \u001b[38;5;241m>\u001b[39m\u001b[38;5;241m=\u001b[39m amt:\n\u001b[0;32m    875\u001b[0m         \u001b[38;5;28;01mreturn\u001b[39;00m \u001b[38;5;28mself\u001b[39m\u001b[38;5;241m.\u001b[39m_decoded_buffer\u001b[38;5;241m.\u001b[39mget(amt)\n\u001b[1;32m--> 877\u001b[0m data \u001b[38;5;241m=\u001b[39m \u001b[38;5;28;43mself\u001b[39;49m\u001b[38;5;241;43m.\u001b[39;49m\u001b[43m_raw_read\u001b[49m\u001b[43m(\u001b[49m\u001b[43mamt\u001b[49m\u001b[43m)\u001b[49m\n\u001b[0;32m    879\u001b[0m flush_decoder \u001b[38;5;241m=\u001b[39m amt \u001b[38;5;129;01mis\u001b[39;00m \u001b[38;5;28;01mNone\u001b[39;00m \u001b[38;5;129;01mor\u001b[39;00m (amt \u001b[38;5;241m!=\u001b[39m \u001b[38;5;241m0\u001b[39m \u001b[38;5;129;01mand\u001b[39;00m \u001b[38;5;129;01mnot\u001b[39;00m data)\n\u001b[0;32m    881\u001b[0m \u001b[38;5;28;01mif\u001b[39;00m \u001b[38;5;129;01mnot\u001b[39;00m data \u001b[38;5;129;01mand\u001b[39;00m \u001b[38;5;28mlen\u001b[39m(\u001b[38;5;28mself\u001b[39m\u001b[38;5;241m.\u001b[39m_decoded_buffer) \u001b[38;5;241m==\u001b[39m \u001b[38;5;241m0\u001b[39m:\n",
      "File \u001b[1;32mc:\\Users\\HP\\AppData\\Local\\Programs\\Python\\Python38\\lib\\site-packages\\urllib3\\response.py:812\u001b[0m, in \u001b[0;36mHTTPResponse._raw_read\u001b[1;34m(self, amt)\u001b[0m\n\u001b[0;32m    809\u001b[0m fp_closed \u001b[38;5;241m=\u001b[39m \u001b[38;5;28mgetattr\u001b[39m(\u001b[38;5;28mself\u001b[39m\u001b[38;5;241m.\u001b[39m_fp, \u001b[38;5;124m\"\u001b[39m\u001b[38;5;124mclosed\u001b[39m\u001b[38;5;124m\"\u001b[39m, \u001b[38;5;28;01mFalse\u001b[39;00m)\n\u001b[0;32m    811\u001b[0m \u001b[38;5;28;01mwith\u001b[39;00m \u001b[38;5;28mself\u001b[39m\u001b[38;5;241m.\u001b[39m_error_catcher():\n\u001b[1;32m--> 812\u001b[0m     data \u001b[38;5;241m=\u001b[39m \u001b[38;5;28;43mself\u001b[39;49m\u001b[38;5;241;43m.\u001b[39;49m\u001b[43m_fp_read\u001b[49m\u001b[43m(\u001b[49m\u001b[43mamt\u001b[49m\u001b[43m)\u001b[49m \u001b[38;5;28;01mif\u001b[39;00m \u001b[38;5;129;01mnot\u001b[39;00m fp_closed \u001b[38;5;28;01melse\u001b[39;00m \u001b[38;5;124mb\u001b[39m\u001b[38;5;124m\"\u001b[39m\u001b[38;5;124m\"\u001b[39m\n\u001b[0;32m    813\u001b[0m     \u001b[38;5;28;01mif\u001b[39;00m amt \u001b[38;5;129;01mis\u001b[39;00m \u001b[38;5;129;01mnot\u001b[39;00m \u001b[38;5;28;01mNone\u001b[39;00m \u001b[38;5;129;01mand\u001b[39;00m amt \u001b[38;5;241m!=\u001b[39m \u001b[38;5;241m0\u001b[39m \u001b[38;5;129;01mand\u001b[39;00m \u001b[38;5;129;01mnot\u001b[39;00m data:\n\u001b[0;32m    814\u001b[0m         \u001b[38;5;66;03m# Platform-specific: Buggy versions of Python.\u001b[39;00m\n\u001b[0;32m    815\u001b[0m         \u001b[38;5;66;03m# Close the connection when no data is returned\u001b[39;00m\n\u001b[1;32m   (...)\u001b[0m\n\u001b[0;32m    820\u001b[0m         \u001b[38;5;66;03m# not properly close the connection in all cases. There is\u001b[39;00m\n\u001b[0;32m    821\u001b[0m         \u001b[38;5;66;03m# no harm in redundantly calling close.\u001b[39;00m\n\u001b[0;32m    822\u001b[0m         \u001b[38;5;28mself\u001b[39m\u001b[38;5;241m.\u001b[39m_fp\u001b[38;5;241m.\u001b[39mclose()\n",
      "File \u001b[1;32mc:\\Users\\HP\\AppData\\Local\\Programs\\Python\\Python38\\lib\\site-packages\\urllib3\\response.py:797\u001b[0m, in \u001b[0;36mHTTPResponse._fp_read\u001b[1;34m(self, amt)\u001b[0m\n\u001b[0;32m    794\u001b[0m     \u001b[38;5;28;01mreturn\u001b[39;00m buffer\u001b[38;5;241m.\u001b[39mgetvalue()\n\u001b[0;32m    795\u001b[0m \u001b[38;5;28;01melse\u001b[39;00m:\n\u001b[0;32m    796\u001b[0m     \u001b[38;5;66;03m# StringIO doesn't like amt=None\u001b[39;00m\n\u001b[1;32m--> 797\u001b[0m     \u001b[38;5;28;01mreturn\u001b[39;00m \u001b[38;5;28;43mself\u001b[39;49m\u001b[38;5;241;43m.\u001b[39;49m\u001b[43m_fp\u001b[49m\u001b[38;5;241;43m.\u001b[39;49m\u001b[43mread\u001b[49m\u001b[43m(\u001b[49m\u001b[43mamt\u001b[49m\u001b[43m)\u001b[49m \u001b[38;5;28;01mif\u001b[39;00m amt \u001b[38;5;129;01mis\u001b[39;00m \u001b[38;5;129;01mnot\u001b[39;00m \u001b[38;5;28;01mNone\u001b[39;00m \u001b[38;5;28;01melse\u001b[39;00m \u001b[38;5;28mself\u001b[39m\u001b[38;5;241m.\u001b[39m_fp\u001b[38;5;241m.\u001b[39mread()\n",
      "File \u001b[1;32mc:\\Users\\HP\\AppData\\Local\\Programs\\Python\\Python38\\lib\\http\\client.py:454\u001b[0m, in \u001b[0;36mHTTPResponse.read\u001b[1;34m(self, amt)\u001b[0m\n\u001b[0;32m    451\u001b[0m \u001b[38;5;28;01mif\u001b[39;00m amt \u001b[38;5;129;01mis\u001b[39;00m \u001b[38;5;129;01mnot\u001b[39;00m \u001b[38;5;28;01mNone\u001b[39;00m:\n\u001b[0;32m    452\u001b[0m     \u001b[38;5;66;03m# Amount is given, implement using readinto\u001b[39;00m\n\u001b[0;32m    453\u001b[0m     b \u001b[38;5;241m=\u001b[39m \u001b[38;5;28mbytearray\u001b[39m(amt)\n\u001b[1;32m--> 454\u001b[0m     n \u001b[38;5;241m=\u001b[39m \u001b[38;5;28;43mself\u001b[39;49m\u001b[38;5;241;43m.\u001b[39;49m\u001b[43mreadinto\u001b[49m\u001b[43m(\u001b[49m\u001b[43mb\u001b[49m\u001b[43m)\u001b[49m\n\u001b[0;32m    455\u001b[0m     \u001b[38;5;28;01mreturn\u001b[39;00m \u001b[38;5;28mmemoryview\u001b[39m(b)[:n]\u001b[38;5;241m.\u001b[39mtobytes()\n\u001b[0;32m    456\u001b[0m \u001b[38;5;28;01melse\u001b[39;00m:\n\u001b[0;32m    457\u001b[0m     \u001b[38;5;66;03m# Amount is not given (unbounded read) so we must check self.length\u001b[39;00m\n\u001b[0;32m    458\u001b[0m     \u001b[38;5;66;03m# and self.chunked\u001b[39;00m\n",
      "File \u001b[1;32mc:\\Users\\HP\\AppData\\Local\\Programs\\Python\\Python38\\lib\\http\\client.py:498\u001b[0m, in \u001b[0;36mHTTPResponse.readinto\u001b[1;34m(self, b)\u001b[0m\n\u001b[0;32m    493\u001b[0m         b \u001b[38;5;241m=\u001b[39m \u001b[38;5;28mmemoryview\u001b[39m(b)[\u001b[38;5;241m0\u001b[39m:\u001b[38;5;28mself\u001b[39m\u001b[38;5;241m.\u001b[39mlength]\n\u001b[0;32m    495\u001b[0m \u001b[38;5;66;03m# we do not use _safe_read() here because this may be a .will_close\u001b[39;00m\n\u001b[0;32m    496\u001b[0m \u001b[38;5;66;03m# connection, and the user is reading more bytes than will be provided\u001b[39;00m\n\u001b[0;32m    497\u001b[0m \u001b[38;5;66;03m# (for example, reading in 1k chunks)\u001b[39;00m\n\u001b[1;32m--> 498\u001b[0m n \u001b[38;5;241m=\u001b[39m \u001b[38;5;28;43mself\u001b[39;49m\u001b[38;5;241;43m.\u001b[39;49m\u001b[43mfp\u001b[49m\u001b[38;5;241;43m.\u001b[39;49m\u001b[43mreadinto\u001b[49m\u001b[43m(\u001b[49m\u001b[43mb\u001b[49m\u001b[43m)\u001b[49m\n\u001b[0;32m    499\u001b[0m \u001b[38;5;28;01mif\u001b[39;00m \u001b[38;5;129;01mnot\u001b[39;00m n \u001b[38;5;129;01mand\u001b[39;00m b:\n\u001b[0;32m    500\u001b[0m     \u001b[38;5;66;03m# Ideally, we would raise IncompleteRead if the content-length\u001b[39;00m\n\u001b[0;32m    501\u001b[0m     \u001b[38;5;66;03m# wasn't satisfied, but it might break compatibility.\u001b[39;00m\n\u001b[0;32m    502\u001b[0m     \u001b[38;5;28mself\u001b[39m\u001b[38;5;241m.\u001b[39m_close_conn()\n",
      "File \u001b[1;32mc:\\Users\\HP\\AppData\\Local\\Programs\\Python\\Python38\\lib\\socket.py:669\u001b[0m, in \u001b[0;36mSocketIO.readinto\u001b[1;34m(self, b)\u001b[0m\n\u001b[0;32m    667\u001b[0m \u001b[38;5;28;01mwhile\u001b[39;00m \u001b[38;5;28;01mTrue\u001b[39;00m:\n\u001b[0;32m    668\u001b[0m     \u001b[38;5;28;01mtry\u001b[39;00m:\n\u001b[1;32m--> 669\u001b[0m         \u001b[38;5;28;01mreturn\u001b[39;00m \u001b[38;5;28;43mself\u001b[39;49m\u001b[38;5;241;43m.\u001b[39;49m\u001b[43m_sock\u001b[49m\u001b[38;5;241;43m.\u001b[39;49m\u001b[43mrecv_into\u001b[49m\u001b[43m(\u001b[49m\u001b[43mb\u001b[49m\u001b[43m)\u001b[49m\n\u001b[0;32m    670\u001b[0m     \u001b[38;5;28;01mexcept\u001b[39;00m timeout:\n\u001b[0;32m    671\u001b[0m         \u001b[38;5;28mself\u001b[39m\u001b[38;5;241m.\u001b[39m_timeout_occurred \u001b[38;5;241m=\u001b[39m \u001b[38;5;28;01mTrue\u001b[39;00m\n",
      "File \u001b[1;32mc:\\Users\\HP\\AppData\\Local\\Programs\\Python\\Python38\\lib\\ssl.py:1241\u001b[0m, in \u001b[0;36mSSLSocket.recv_into\u001b[1;34m(self, buffer, nbytes, flags)\u001b[0m\n\u001b[0;32m   1237\u001b[0m     \u001b[38;5;28;01mif\u001b[39;00m flags \u001b[38;5;241m!=\u001b[39m \u001b[38;5;241m0\u001b[39m:\n\u001b[0;32m   1238\u001b[0m         \u001b[38;5;28;01mraise\u001b[39;00m \u001b[38;5;167;01mValueError\u001b[39;00m(\n\u001b[0;32m   1239\u001b[0m           \u001b[38;5;124m\"\u001b[39m\u001b[38;5;124mnon-zero flags not allowed in calls to recv_into() on \u001b[39m\u001b[38;5;132;01m%s\u001b[39;00m\u001b[38;5;124m\"\u001b[39m \u001b[38;5;241m%\u001b[39m\n\u001b[0;32m   1240\u001b[0m           \u001b[38;5;28mself\u001b[39m\u001b[38;5;241m.\u001b[39m\u001b[38;5;18m__class__\u001b[39m)\n\u001b[1;32m-> 1241\u001b[0m     \u001b[38;5;28;01mreturn\u001b[39;00m \u001b[38;5;28;43mself\u001b[39;49m\u001b[38;5;241;43m.\u001b[39;49m\u001b[43mread\u001b[49m\u001b[43m(\u001b[49m\u001b[43mnbytes\u001b[49m\u001b[43m,\u001b[49m\u001b[43m \u001b[49m\u001b[43mbuffer\u001b[49m\u001b[43m)\u001b[49m\n\u001b[0;32m   1242\u001b[0m \u001b[38;5;28;01melse\u001b[39;00m:\n\u001b[0;32m   1243\u001b[0m     \u001b[38;5;28;01mreturn\u001b[39;00m \u001b[38;5;28msuper\u001b[39m()\u001b[38;5;241m.\u001b[39mrecv_into(buffer, nbytes, flags)\n",
      "File \u001b[1;32mc:\\Users\\HP\\AppData\\Local\\Programs\\Python\\Python38\\lib\\ssl.py:1099\u001b[0m, in \u001b[0;36mSSLSocket.read\u001b[1;34m(self, len, buffer)\u001b[0m\n\u001b[0;32m   1097\u001b[0m \u001b[38;5;28;01mtry\u001b[39;00m:\n\u001b[0;32m   1098\u001b[0m     \u001b[38;5;28;01mif\u001b[39;00m buffer \u001b[38;5;129;01mis\u001b[39;00m \u001b[38;5;129;01mnot\u001b[39;00m \u001b[38;5;28;01mNone\u001b[39;00m:\n\u001b[1;32m-> 1099\u001b[0m         \u001b[38;5;28;01mreturn\u001b[39;00m \u001b[38;5;28;43mself\u001b[39;49m\u001b[38;5;241;43m.\u001b[39;49m\u001b[43m_sslobj\u001b[49m\u001b[38;5;241;43m.\u001b[39;49m\u001b[43mread\u001b[49m\u001b[43m(\u001b[49m\u001b[38;5;28;43mlen\u001b[39;49m\u001b[43m,\u001b[49m\u001b[43m \u001b[49m\u001b[43mbuffer\u001b[49m\u001b[43m)\u001b[49m\n\u001b[0;32m   1100\u001b[0m     \u001b[38;5;28;01melse\u001b[39;00m:\n\u001b[0;32m   1101\u001b[0m         \u001b[38;5;28;01mreturn\u001b[39;00m \u001b[38;5;28mself\u001b[39m\u001b[38;5;241m.\u001b[39m_sslobj\u001b[38;5;241m.\u001b[39mread(\u001b[38;5;28mlen\u001b[39m)\n",
      "\u001b[1;31mKeyboardInterrupt\u001b[0m: "
     ]
    }
   ],
   "source": [
    "produce_kafka_messages()"
   ]
  },
  {
   "cell_type": "code",
   "execution_count": null,
   "metadata": {},
   "outputs": [],
   "source": []
  }
 ],
 "metadata": {
  "kernelspec": {
   "display_name": "Python 3",
   "language": "python",
   "name": "python3"
  },
  "language_info": {
   "codemirror_mode": {
    "name": "ipython",
    "version": 3
   },
   "file_extension": ".py",
   "mimetype": "text/x-python",
   "name": "python",
   "nbconvert_exporter": "python",
   "pygments_lexer": "ipython3",
   "version": "3.8.0"
  }
 },
 "nbformat": 4,
 "nbformat_minor": 2
}
